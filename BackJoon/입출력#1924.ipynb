{
 "cells": [
  {
   "cell_type": "markdown",
   "metadata": {},
   "source": [
    "# 입출력 - 1924번 (2007년)"
   ]
  },
  {
   "cell_type": "markdown",
   "metadata": {},
   "source": [
    "### 1) 처음 내가 풀어본 풀이 (오류)\n",
    "- 4월달(마지막 달)에는 전체를 더하지 않고 day값을 더해야함  "
   ]
  },
  {
   "cell_type": "code",
   "execution_count": 1,
   "metadata": {},
   "outputs": [
    {
     "name": "stdout",
     "output_type": "stream",
     "text": [
      "3 14\n",
      "SAT\n"
     ]
    }
   ],
   "source": [
    "# 1924 (2007년)\n",
    "\n",
    "month, day = map(int,input().split())   # [4월 22일]\n",
    "week = [\"MON\",\"TUE\",\"WED\",\"THU\",\"FRI\",\"SAT\",\"SUN\"]\n",
    "\n",
    "day_31 = [1,3,5,7,8,10,12]\n",
    "day_30 = [4,6,9,11]\n",
    "day_28 = [2]\n",
    "\n",
    "sumday = 0\n",
    "month_1 = month+1\n",
    "for i in range(1,month_1):   #[1,2,3,4월]\n",
    "    if i in day_31: \n",
    "      sumday += 31\n",
    "    elif i in day_30:\n",
    "      sumday += 30\n",
    "    elif i in day_28:\n",
    "      sumday += 28\n",
    "\n",
    "\n",
    "if sumday % 7 == 1:\n",
    "  print(week[0])  \n",
    "elif sumday % 7 == 2:\n",
    "  print(week[1])\n",
    "elif sumday % 7 == 3:\n",
    "  print(week[2])\n",
    "elif sumday % 7 == 4:\n",
    "  print(week[3])  \n",
    "elif sumday % 7 == 5:\n",
    "  print(week[4]) \n",
    "elif sumday % 7 == 6:\n",
    "  print(week[5])\n",
    "elif sumday % 7 == 0:\n",
    "  print(week[6])\n",
    "\n",
    "\n",
    "# 4월달에는 전체를 더하지 않고 day값을 더해야함\n"
   ]
  },
  {
   "cell_type": "markdown",
   "metadata": {},
   "source": [
    "### 2) 오류 수정 \n",
    "- sumday += day"
   ]
  },
  {
   "cell_type": "code",
   "execution_count": 2,
   "metadata": {},
   "outputs": [
    {
     "name": "stdout",
     "output_type": "stream",
     "text": [
      "3 14\n",
      "WED\n"
     ]
    }
   ],
   "source": [
    "# 1924 (2007년)\n",
    "\n",
    "month, day = map(int,input().split())   # [4월 22일]\n",
    "week = [\"MON\",\"TUE\",\"WED\",\"THU\",\"FRI\",\"SAT\",\"SUN\"]\n",
    "\n",
    "day_31 = [1,3,5,7,8,10,12]\n",
    "day_30 = [4,6,9,11]\n",
    "day_28 = [2]\n",
    "\n",
    "sumday = 0\n",
    "for i in range(1,month):   #[1,2,3,4월]\n",
    "    if i in day_31: \n",
    "      sumday += 31\n",
    "    elif i in day_30:\n",
    "      sumday += 30\n",
    "    elif i in day_28:\n",
    "      sumday += 28\n",
    "\n",
    "sumday += day\n",
    "\n",
    "if sumday % 7 == 1:\n",
    "  print(week[0])  \n",
    "elif sumday % 7 == 2:\n",
    "  print(week[1])\n",
    "elif sumday % 7 == 3:\n",
    "  print(week[2])\n",
    "elif sumday % 7 == 4:\n",
    "  print(week[3])  \n",
    "elif sumday % 7 == 5:\n",
    "  print(week[4]) \n",
    "elif sumday % 7 == 6:\n",
    "  print(week[5])\n",
    "elif sumday % 7 == 0:\n",
    "  print(week[6])"
   ]
  },
  {
   "cell_type": "markdown",
   "metadata": {},
   "source": [
    "## 3) 조금 더 간략하게 정리된 풀이\n",
    "- date에 날짜 넣어주기\n",
    "- week[0]은 \"SUN\"으로 시작\n",
    "- 각 달 별로 요일을 합쳐줘야하는데 date에 있으니 for문을 통해 간단히 정리 가능\n",
    "- %7의 나머지를 통해 요일을 결정해줄 때, if문을 사용하지 않고\n",
    "- week[sumday%7] 을 통해 한줄로 인덱스 구해올 수 있다. "
   ]
  },
  {
   "cell_type": "code",
   "execution_count": 4,
   "metadata": {},
   "outputs": [
    {
     "name": "stdout",
     "output_type": "stream",
     "text": [
      "3 14\n",
      "WED\n"
     ]
    }
   ],
   "source": [
    "month, day = map(int,input().split())\n",
    "\n",
    "date = [31,28,31,30,31,30,31,31,30,31,30,31]\n",
    "week = [\"SUN\",\"MON\",\"TUE\",\"WED\",\"THU\",\"FRI\",\"SAT\"]\n",
    "\n",
    "sumday = 0\n",
    "for i in range(month-1):\n",
    "  sumday += date[i]\n",
    "\n",
    "sumday += day\n",
    "\n",
    "print(week[sumday % 7])"
   ]
  }
 ],
 "metadata": {
  "kernelspec": {
   "display_name": "Python 3",
   "language": "python",
   "name": "python3"
  },
  "language_info": {
   "codemirror_mode": {
    "name": "ipython",
    "version": 3
   },
   "file_extension": ".py",
   "mimetype": "text/x-python",
   "name": "python",
   "nbconvert_exporter": "python",
   "pygments_lexer": "ipython3",
   "version": "3.7.10"
  }
 },
 "nbformat": 4,
 "nbformat_minor": 4
}
